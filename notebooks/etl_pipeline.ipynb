import pandas as pd
from google.cloud import storage, bigquery

# 1 - Simular ingestão de dados
data = {
    "data": pd.date_range("2021-01-01", periods=10, freq="M"),
    "consumo_mwh": [1000, 1200, 1100, 1500, 1700, 1800, 2000, 1900, 2100, 2200],
    "cidade": ["Rio", "SP", "BH", "Curitiba", "Fortaleza", "Recife", "Manaus", "Porto Alegre", "Salvador", "Brasília"]
}
df = pd.DataFrame(data)

print("Prévia dos dados:")
print(df.head())

# 2 - Salvar como CSV para camada RAW
df.to_csv("energy_data_raw.csv", index=False)

# Se fosse projeto real seria salvo no Cloud Storage
print("Arquivo salvo como 'energy_data_raw.csv' (camada raw).")

# 3 - Transformação simples
df["consumo_kwh"] = df["consumo_mwh"] * 1000
df.to_csv("energy_data_refined.csv", index=False)

print("Transformação concluída -> arquivo salvo em 'energy_data_refined.csv' (camada refined).")

